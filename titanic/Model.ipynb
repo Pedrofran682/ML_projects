{
 "cells": [
  {
   "cell_type": "markdown",
   "id": "453c1425-74ee-421e-9351-5da5f61cc8d2",
   "metadata": {
    "tags": []
   },
   "source": [
    "# Overview\n",
    "\n",
    "The data has been split into two groups:\n",
    "\n",
    "* training set (train.csv)\n",
    "* test set (test.csv)\n",
    "\n",
    "The training set should be used to build your machine learning models. For the training set, we provide the outcome (also known as the “ground truth”) for each passenger. Your model will be based on “features” like passengers’ gender and class. You can also use feature engineering to create new features.\n",
    "\n",
    "The test set should be used to see how well your model performs on unseen data. For the test set, we do not provide the ground truth for each passenger. It is your job to predict these outcomes. For each passenger in the test set, use the model you trained to predict whether or not they survived the sinking of the Titanic.\n",
    "\n",
    "We also include gender_submission.csv, a set of predictions that assume all and only female passengers survive, as an example of what a submission file should look like.\n",
    "\n",
    "## Data Dictionary\n",
    "\n",
    "| Variable | Definition                                 | Key                                            |   |   |\n",
    "|----------|--------------------------------------------|------------------------------------------------|---|---|\n",
    "| survival | Survival                                   | 0 = No, 1 = Yes                                |   |   |\n",
    "| pclass   | Ticket class                               | 1 = 1st, 2 = 2nd, 3 = 3rd                      |   |   |\n",
    "| sex      | Sex                                        |                                                |   |   |\n",
    "| Age      | Age in years                               |                                                |   |   |\n",
    "| sibsp    | # of siblings / spouses aboard the Titanic |                                                |   |   |\n",
    "| parch    | # of parents / children aboard the Titanic |                                                |   |   |\n",
    "| ticket   | Ticket number                              |                                                |   |   |\n",
    "| fare     | Passenger fare                             |                                                |   |   |\n",
    "| cabin    | Cabin number                               |                                                |   |   |\n",
    "| embarked | Port of Embarkation                        | C = Cherbourg, Q = Queenstown, S = Southampton |   |   |\n",
    "## Variable Notes\n",
    "\n",
    "pclass: A proxy for socio-economic status (SES)\n",
    "* 1st = Upper\n",
    "* 2nd = Middle\n",
    "* 3rd = Lower\n",
    "\n",
    "age: Age is fractional if less than 1. If the age is estimated, is it in the form of xx.5\n",
    "\n",
    "sibsp: The dataset defines family relations in this way...\n",
    "\n",
    "Sibling = brother, sister, stepbrother, stepsister\n",
    "\n",
    "Spouse = husband, wife (mistresses and fiancés were ignored)\n",
    "\n",
    "parch: The dataset defines family relations in this way...\n",
    "Parent = mother, father\n",
    "\n",
    "Child = daughter, son, stepdaughter, stepson\n",
    "\n",
    "Some children travelled only with a nanny, therefore parch=0 for them."
   ]
  },
  {
   "cell_type": "markdown",
   "id": "2e550047-3572-4b9f-8c8c-28785b3b045b",
   "metadata": {
    "tags": []
   },
   "source": [
    "# Data cleaning"
   ]
  },
  {
   "cell_type": "code",
   "execution_count": 1,
   "id": "78ef573a-8567-4093-9c80-2035775a3df7",
   "metadata": {},
   "outputs": [],
   "source": [
    "import numpy as np\n",
    "import pandas as pd\n",
    "import matplotlib.pyplot as plt"
   ]
  },
  {
   "cell_type": "markdown",
   "id": "c456cc33-150b-44a7-9fd9-927a3e257796",
   "metadata": {
    "tags": []
   },
   "source": [
    "### Functions"
   ]
  },
  {
   "cell_type": "code",
   "execution_count": 2,
   "id": "303be2af-108a-4d29-9486-9b5448fc01c4",
   "metadata": {},
   "outputs": [],
   "source": [
    "def label_fare(fare):\n",
    "    if(fare < 8):\n",
    "        return \"< 8\"\n",
    "    if(fare >= 8 and fare < 14.5):\n",
    "        return \"< 14.5\"\n",
    "    if(fare >= 14.5 and fare < 31):\n",
    "        return \"< 31\"\n",
    "    if(fare >= 31):\n",
    "        return \">= 31\"\n",
    "    \n",
    "    \n",
    "def label_age(age):\n",
    "    if(age < 3):\n",
    "        return \"baby\"\n",
    "    if(age >= 3 and age < 12):\n",
    "        return \"kid\"\n",
    "    if(age >= 12 and age < 18):  # Maybe we can ignore this label\n",
    "        return \"Teeneger\"\n",
    "    if(age >= 18 and age < 60):\n",
    "        return \"Adult\"\n",
    "    if(age >= 60):\n",
    "        return \"Old\"\n",
    "    \n",
    "    \n",
    "def label_class(pclass):\n",
    "    if(pclass == 1):\n",
    "        return \"Upper\"\n",
    "    if(pclass == 2):\n",
    "        return \"Middle\"\n",
    "    if(pclass == 3):\n",
    "        return \"Lower\""
   ]
  },
  {
   "cell_type": "code",
   "execution_count": 3,
   "id": "6bbb4843-4754-4ba6-bb61-b1649c952c37",
   "metadata": {},
   "outputs": [],
   "source": [
    "from sklearn.preprocessing import OneHotEncoder\n",
    "\n",
    "def categorial_feature(dataframe, column_name):\n",
    "    cat_feature = dataframe[[column_name]].to_numpy()\n",
    "    \n",
    "    feature_encoder = OneHotEncoder()\n",
    "    cat_feature = feature_encoder.fit_transform(cat_feature).toarray()\n",
    "\n",
    "    dataframe.drop([column_name], axis=1, inplace=True)\n",
    "\n",
    "    feature_encoder.categories_[0]\n",
    "    cat_feature = pd.DataFrame(cat_feature, columns=feature_encoder.categories_[0])\n",
    "\n",
    "    dataframe = pd.concat([dataframe,cat_feature] , axis=1)\n",
    "    \n",
    "    return dataframe\n",
    "\n",
    "\n",
    "def pipeline(dataframe):\n",
    "    \n",
    "    dataframe[\"Age\"] = dataframe[\"Age\"].fillna(np.mean(dataframe[\"Age\"]))\n",
    "    \n",
    "    if (dataframe[\"Fare\"].isnull().values.any() == True):\n",
    "        index_nans = dataframe[\"Fare\"].index[dataframe[\"Fare\"].apply(np.isnan)]\n",
    "        class_nan = dataframe[\"Pclass\"].loc[index_nans].to_numpy()[0]    \n",
    "        mean_fare_class = dataframe.loc[dataframe[\"Pclass\"] == class_nan][\"Fare\"].mean()\n",
    "        dataframe[\"Fare\"] = dataframe[\"Fare\"].fillna(np.mean(dataframe[\"Fare\"]))\n",
    "        \n",
    "        \n",
    "    dataframe.drop(columns=[\"Cabin\", \"Embarked\", \"Name\", \"Ticket\",\"SibSp\", \"Parch\"],\n",
    "                               inplace=True)\n",
    "    \n",
    "    dataframe[\"Fare\"] = dataframe[\"Fare\"].apply(label_fare)\n",
    "    dataframe[\"Pclass\"] = dataframe[\"Pclass\"].apply(label_class)\n",
    "    dataframe[\"Age\"] = dataframe[\"Age\"].apply(label_age)\n",
    "    \n",
    "    dataframe = categorial_feature(dataframe, \"Sex\")      \n",
    "    dataframe = categorial_feature(dataframe, \"Fare\")\n",
    "    dataframe = categorial_feature(dataframe, \"Age\")\n",
    "    dataframe = categorial_feature(dataframe, \"Pclass\")    \n",
    "    \n",
    "    return dataframe"
   ]
  },
  {
   "cell_type": "markdown",
   "id": "52a356af-9b89-4216-b184-7f43c85990f1",
   "metadata": {},
   "source": [
    "## Applying pipeline"
   ]
  },
  {
   "cell_type": "code",
   "execution_count": 4,
   "id": "2ba19d28-a52f-469d-9e75-3d25b85ca483",
   "metadata": {},
   "outputs": [],
   "source": [
    "train_df = pd.read_csv(\"train.csv\")\n",
    "test_sample = pd.read_csv(\"test.csv\")\n",
    "\n",
    "train_df.pop(\"PassengerId\").to_numpy()\n",
    "test_sample_ID = test_sample.pop(\"PassengerId\").to_numpy()\n",
    "\n",
    "train_df = pipeline(train_df)\n",
    "test_sample = pipeline(test_sample)"
   ]
  },
  {
   "cell_type": "code",
   "execution_count": 5,
   "id": "713fdb27-51b8-420e-80ac-78f4d1a97318",
   "metadata": {},
   "outputs": [],
   "source": [
    "# Counting how many NAN values there is on the dataframe\n",
    "for column in train_df.columns:\n",
    "    nan_counter = train_df[column].isna().sum()\n",
    "    if (nan_counter != 0):\n",
    "        print(f\"{column} has {nan_counter} NAN values\")"
   ]
  },
  {
   "cell_type": "code",
   "execution_count": 6,
   "id": "458e0fea-1d25-47ba-b1d1-c8c01dbd58f5",
   "metadata": {},
   "outputs": [],
   "source": [
    "# Counting how many NAN values there is on the test dataframe\n",
    "for column in test_sample.columns:\n",
    "    nan_counter = test_sample[column].isna().sum()\n",
    "    if (nan_counter != 0):\n",
    "        print(f\"{column} has {nan_counter} NAN values\")"
   ]
  },
  {
   "cell_type": "markdown",
   "id": "0dda299e-9647-42f2-8306-f6a7e7d80650",
   "metadata": {},
   "source": [
    "# Model\n",
    "\n",
    "Looking for the best model"
   ]
  },
  {
   "cell_type": "code",
   "execution_count": 7,
   "id": "76cddbad-6b36-43ee-a5fa-c3435c464d61",
   "metadata": {},
   "outputs": [],
   "source": [
    "train_label =  train_df.pop(\"Survived\").to_numpy()\n",
    "train_feature = train_df.to_numpy()\n",
    "\n",
    "test_sample = test_sample.to_numpy()"
   ]
  },
  {
   "cell_type": "code",
   "execution_count": 8,
   "id": "ea1017fb-5528-4505-a273-c59404c3060a",
   "metadata": {},
   "outputs": [],
   "source": [
    "from sklearn.model_selection import cross_val_score, GridSearchCV\n",
    "from sklearn.model_selection import cross_val_predict"
   ]
  },
  {
   "cell_type": "markdown",
   "id": "c548188c-bc7d-42cb-a931-cb41e9555f34",
   "metadata": {},
   "source": [
    "## KNeighborsClassifier"
   ]
  },
  {
   "cell_type": "code",
   "execution_count": 9,
   "id": "f8706dcd-1f86-406c-8604-a0a2db1cfe8e",
   "metadata": {},
   "outputs": [],
   "source": [
    "from sklearn.neighbors import KNeighborsClassifier\n",
    "\n",
    "param_grid = {\"n_neighbors\": [8, 9, 10, 11, 12],\n",
    "              \"weights\": [\"uniform\", \"distance\"]}\n",
    "\n",
    "KNC = KNeighborsClassifier()\n",
    "\n",
    "grid_search = GridSearchCV(KNC, param_grid, cv=10,\n",
    "                        scoring='neg_mean_squared_error',\n",
    "                        return_train_score=True)\n",
    "\n",
    "grid_search.fit(train_feature, train_label)\n",
    "\n",
    "KNC = grid_search.best_estimator_"
   ]
  },
  {
   "cell_type": "code",
   "execution_count": 10,
   "id": "5c04064b-255e-4473-bca9-2093303204f5",
   "metadata": {},
   "outputs": [
    {
     "name": "stdout",
     "output_type": "stream",
     "text": [
      "Mean scores = 81.599%\n"
     ]
    }
   ],
   "source": [
    "n_scores = cross_val_score(KNC,\n",
    "                           train_feature, train_label,\n",
    "                           cv=10,\n",
    "                           scoring=\"accuracy\")\n",
    "\n",
    "print(f\"Mean scores = {n_scores.mean()*100:.3f}%\")"
   ]
  },
  {
   "cell_type": "markdown",
   "id": "e620a484-5ed9-47ff-a7c7-6c3c97ac12b3",
   "metadata": {
    "jp-MarkdownHeadingCollapsed": true,
    "tags": []
   },
   "source": [
    "# The following models do not perform better than the KNeighborsClassifier"
   ]
  },
  {
   "cell_type": "markdown",
   "id": "d51732a8-3c86-4182-9c43-f8da00c4bd40",
   "metadata": {
    "tags": []
   },
   "source": [
    "## RandomForestClassifier"
   ]
  },
  {
   "cell_type": "code",
   "execution_count": 11,
   "id": "dba53e06-0385-4477-acf5-7008741dcb00",
   "metadata": {},
   "outputs": [],
   "source": [
    "# from sklearn.ensemble import RandomForestClassifier\n",
    "\n",
    "# param_grid = {\"n_estimators\": [900, 1000, 1100],\n",
    "#               \"criterion\": [\"entropy\", \"gini\"]}\n",
    "\n",
    "\n",
    "# RFR = RandomForestClassifier()\n",
    "\n",
    "# grid_search = GridSearchCV(RFR, param_grid, cv=10,\n",
    "#                         scoring='neg_mean_squared_error',\n",
    "#                         return_train_score=True)\n",
    "\n",
    "# grid_search.fit(train_feature, train_label)\n",
    "\n",
    "# RFR = grid_search.best_estimator_"
   ]
  },
  {
   "cell_type": "code",
   "execution_count": 12,
   "id": "1c730c3c-aea8-4eb0-b6f7-5c23524ac8e5",
   "metadata": {},
   "outputs": [],
   "source": [
    "# n_scores = cross_val_score(RFR,\n",
    "#                            train_feature, train_label,\n",
    "#                            cv=3)\n",
    "\n",
    "# print(f\"Mean scores = {n_scores.mean()*100:.3f}%\")"
   ]
  },
  {
   "cell_type": "markdown",
   "id": "f69390bb-895c-41ab-9cc5-0232cf46c6ec",
   "metadata": {
    "tags": []
   },
   "source": [
    "## SGDClassifier"
   ]
  },
  {
   "cell_type": "code",
   "execution_count": 13,
   "id": "f6460124-01f8-410f-a8e1-bb5c317ce99a",
   "metadata": {},
   "outputs": [],
   "source": [
    "# from sklearn.linear_model import SGDClassifier\n",
    "\n",
    "# param_grid = {\"penalty\": [\"l2\", \"l1\", \"elasticnet\"],\n",
    "#               \"loss\": [\"perceptron\", \"log\", \"hinge\"]}\n",
    "\n",
    "\n",
    "# GDC = SGDClassifier()\n",
    "\n",
    "# grid_search = GridSearchCV(GDC, param_grid, cv=10,\n",
    "#                         scoring='neg_mean_squared_error',\n",
    "#                         return_train_score=True)\n",
    "\n",
    "# grid_search.fit(train_feature, train_label)\n",
    "\n",
    "# GDC = grid_search.best_estimator_"
   ]
  },
  {
   "cell_type": "code",
   "execution_count": 14,
   "id": "542e5be1-cee6-4d5c-a68e-a094a48f564e",
   "metadata": {},
   "outputs": [],
   "source": [
    "# n_scores = cross_val_score(GDC,\n",
    "#                            train_feature, train_label,\n",
    "#                            cv=3)\n",
    "\n",
    "# print(f\"Mean scores = {n_scores.mean()*100:.3f}%\")"
   ]
  },
  {
   "cell_type": "markdown",
   "id": "9759bac2-aa95-4543-a3d1-3d4a55c1ffaa",
   "metadata": {},
   "source": [
    "# Predict"
   ]
  },
  {
   "cell_type": "code",
   "execution_count": 15,
   "id": "5fbec296-8929-488b-a794-05d51b5ff709",
   "metadata": {},
   "outputs": [
    {
     "data": {
      "text/html": [
       "<div>\n",
       "<style scoped>\n",
       "    .dataframe tbody tr th:only-of-type {\n",
       "        vertical-align: middle;\n",
       "    }\n",
       "\n",
       "    .dataframe tbody tr th {\n",
       "        vertical-align: top;\n",
       "    }\n",
       "\n",
       "    .dataframe thead th {\n",
       "        text-align: right;\n",
       "    }\n",
       "</style>\n",
       "<table border=\"1\" class=\"dataframe\">\n",
       "  <thead>\n",
       "    <tr style=\"text-align: right;\">\n",
       "      <th></th>\n",
       "      <th>PassengerId</th>\n",
       "      <th>Survived</th>\n",
       "    </tr>\n",
       "  </thead>\n",
       "  <tbody>\n",
       "    <tr>\n",
       "      <th>0</th>\n",
       "      <td>892</td>\n",
       "      <td>0</td>\n",
       "    </tr>\n",
       "    <tr>\n",
       "      <th>1</th>\n",
       "      <td>893</td>\n",
       "      <td>1</td>\n",
       "    </tr>\n",
       "    <tr>\n",
       "      <th>2</th>\n",
       "      <td>894</td>\n",
       "      <td>0</td>\n",
       "    </tr>\n",
       "    <tr>\n",
       "      <th>3</th>\n",
       "      <td>895</td>\n",
       "      <td>0</td>\n",
       "    </tr>\n",
       "    <tr>\n",
       "      <th>4</th>\n",
       "      <td>896</td>\n",
       "      <td>0</td>\n",
       "    </tr>\n",
       "    <tr>\n",
       "      <th>...</th>\n",
       "      <td>...</td>\n",
       "      <td>...</td>\n",
       "    </tr>\n",
       "    <tr>\n",
       "      <th>413</th>\n",
       "      <td>1305</td>\n",
       "      <td>0</td>\n",
       "    </tr>\n",
       "    <tr>\n",
       "      <th>414</th>\n",
       "      <td>1306</td>\n",
       "      <td>1</td>\n",
       "    </tr>\n",
       "    <tr>\n",
       "      <th>415</th>\n",
       "      <td>1307</td>\n",
       "      <td>0</td>\n",
       "    </tr>\n",
       "    <tr>\n",
       "      <th>416</th>\n",
       "      <td>1308</td>\n",
       "      <td>0</td>\n",
       "    </tr>\n",
       "    <tr>\n",
       "      <th>417</th>\n",
       "      <td>1309</td>\n",
       "      <td>0</td>\n",
       "    </tr>\n",
       "  </tbody>\n",
       "</table>\n",
       "<p>418 rows × 2 columns</p>\n",
       "</div>"
      ],
      "text/plain": [
       "     PassengerId  Survived\n",
       "0            892         0\n",
       "1            893         1\n",
       "2            894         0\n",
       "3            895         0\n",
       "4            896         0\n",
       "..           ...       ...\n",
       "413         1305         0\n",
       "414         1306         1\n",
       "415         1307         0\n",
       "416         1308         0\n",
       "417         1309         0\n",
       "\n",
       "[418 rows x 2 columns]"
      ]
     },
     "execution_count": 15,
     "metadata": {},
     "output_type": "execute_result"
    }
   ],
   "source": [
    "pred_labels = KNC.predict(test_sample)\n",
    "\n",
    "s1 = pd.DataFrame(pd.Series(test_sample_ID), columns=[\"PassengerId\"])\n",
    "s2 = pd.DataFrame(pd.Series(pred_labels), columns=[\"Survived\"])\n",
    "\n",
    "final_results = s1.join(s2)\n",
    "\n",
    "final_results.to_csv(\"Predicted.csv\",  index=False)\n",
    "final_results"
   ]
  }
 ],
 "metadata": {
  "kernelspec": {
   "display_name": "Python 3 (ipykernel)",
   "language": "python",
   "name": "python3"
  },
  "language_info": {
   "codemirror_mode": {
    "name": "ipython",
    "version": 3
   },
   "file_extension": ".py",
   "mimetype": "text/x-python",
   "name": "python",
   "nbconvert_exporter": "python",
   "pygments_lexer": "ipython3",
   "version": "3.8.12"
  },
  "widgets": {
   "application/vnd.jupyter.widget-state+json": {
    "state": {},
    "version_major": 2,
    "version_minor": 0
   }
  }
 },
 "nbformat": 4,
 "nbformat_minor": 5
}
